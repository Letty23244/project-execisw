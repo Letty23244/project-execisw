{
 "cells": [
  {
   "cell_type": "markdown",
   "id": "beb5ccf1-b3df-4f39-9ca5-0314651d2b5e",
   "metadata": {},
   "source": [
    "## (i)"
   ]
  },
  {
   "cell_type": "code",
   "execution_count": 2,
   "id": "e8be9cd8-70d1-453c-86e4-f4be399b80f5",
   "metadata": {},
   "outputs": [],
   "source": [
    "import numpy as np\n",
    "from numpy import random"
   ]
  },
  {
   "cell_type": "code",
   "execution_count": 3,
   "id": "ecef29ab-6424-4b3e-936a-8ada6ecc90e8",
   "metadata": {},
   "outputs": [
    {
     "name": "stdout",
     "output_type": "stream",
     "text": [
      "[0 0 0 0 0 0 2 1 3 1 1 2 2 0 0 3 0 1 3 2 1 2 1 0 1 2 3 2 1 1 0 1 0 0 0 2 0\n",
      " 2 2 1 1 0 2 4 1 3 0 1 0 1 0 0 1 0 2 2 2 0 1 2 0 1 0 1 1 3 3 0 0 0 2 3 2 0\n",
      " 0 0 2 0 0 2 2 2 0 1 1 1 0 1 0 2 1 1 0 0 1 1 2 1 2 0 2 0 1 1 1 1 1 1 0 0 0\n",
      " 0 2 1 0 0 2 0 0 0 0 1 0 0 1 2 3 3 1 2 1 2 0 0 2 0 2 2 2 2 0 2 1 0 0 3 2 2\n",
      " 1 1 0 0 2 0 2 1 0 1 0 2 3 0 1 0 1 1 1 0 1 0 2 0 2 0 0 1 0 2 0 0 0 0 2 1 1\n",
      " 0 0 2 0 0 0 1 1 2 1 3 0 1 0 0 2 1 0 1 2 2 2 0 1 0 1 0 1 0 2 1 2 2 1 0 1 0\n",
      " 1 0 0 0 1 1 3 1 0 2 2 2 0 1 0 0 1 1 1 0 0 1 1 2 0 1 2 0 1 1 0 0 1 2 4 0 0\n",
      " 1 0 0 2 1 0 0 1 0 1 2 1 1 0 0 0 0 0 1 0 0 1 1 0 2 1 0 1 0 2 0 1 0 1 0 0 0\n",
      " 1 1 3 1 0 2 0 0 1 0 1 0 0 1 0 3 3 1 0 2 0 1 0 1 2 2 0 0 0 1 1 4 2 0 1 1 1\n",
      " 2 1 2 2 1 0 0 1 1 0 0 1 0 3 2 1 2 1 1 1 1 1 2 1 1 1 2 1 2 4 0 0 1 0 1 0 0\n",
      " 0 1 2 0 3 1 1 1 1 1 3 1 1 0 1 2 2 0 0 1 2 1 0 2 0 0 3 0 1 1 0 0 1 0 2 1 2\n",
      " 0 1 1 1 0 0 2 2 0 3 0 1 0 1 1 2 1 1 2 0 0 1 0 2 0 0 1 2 2 1 1 1 0 1 2 0 1\n",
      " 1 1 0 0 1 1 3 0 2 1 2 2 0 2 1 1 0 0 2 2 2 0 1 0 1 1 0 0 0 2 2 1 1 1 0 1 2\n",
      " 2 0 2 1 2 3 2 2 1 2 0 0 1 0 2 0 2 0 2 1 0 3 2 0 2 1 2 2 0 0 0 0 0 1 0 3 0\n",
      " 1 1 1 1 1 0 1 2 1 0 1 2 1 1 1 0 1 0 1 1 0 1 1 0 0 0 0 2 1 0 1 1 0 1 4 0 0\n",
      " 1 0 1 0 1 0 1 1 1 1 0 1 2 0 1 1 0 2 1 5 1 0 2 0 2 1 0 1 0 1 1 4 1 0 0 1 1\n",
      " 2 1 1 0 0 1 0 0 1 2 3 1 3 0 0 0 1 0 1 0 1 0 1 4 3 1 1 2 1 0 1 0 4 1 0 0 0\n",
      " 1 2 1 0 0 0 2 2 1 1 0 1 1 2 2 1 0 2 0 0 0 0 1 1 0 2 0 1 0 1 1 0 0 1 2 1 1\n",
      " 0 1 1 1 1 1 2 2 2 1 3 2 0 2 2 0 2 0 0 0 1 3 1 2 2 1 3 2 0 0 1 1 0 0 1 1 2\n",
      " 0 0 0 0 1 0 2 1 0 2 2 1 3 0 2 2 1 1 3 2 3 1 1 3 1 1 2 1 0 0 2 0 1 2 0 2 0\n",
      " 1 0 2 1 1 1 0 1 1 1 2 2 0 1 1 1 1 0 3 0 2 2 1 0 2 0 1 1 1 0 1 1 0 1 4 1 1\n",
      " 2 0 1 2 4 1 0 3 1 2 1 0 2 2 1 1 2 0 0 2 0 1 0 1 2 1 1 1 0 1 1 1 1 0 1 0 1\n",
      " 0 1 2 3 0 3 0 3 1 1 0 3 0 0 0 0 2 1 1 0 2 1 0 2 0 1 1 1 0 0 2 1 1 1 2 0 0\n",
      " 3 1 3 1 2 3 0 2 1 2 0 2 2 3 3 1 0 2 0 2 1 0 0 1 1 1 0 1 1 2 0 2 1 1 1 2 1\n",
      " 0 2 3 0 1 1 1 0 1 2 2 1 0 0 1 1 0 0 1 0 1 1 4 0 2 0 1 1 1 1 1 1 1 1 3 0 1\n",
      " 0 0 0 3 1 1 2 3 0 1 2 1 0 0 2 1 0 4 0 0 2 2 1 1 1 1 2 2 0 1 0 0 1 2 0 1 0\n",
      " 1 0 3 0 2 0 0 1 0 0 0 1 0 1 1 6 2 0 1 1 3 1 3 2 1 1 1 2 1 2 2 0 2 1 0 1 0\n",
      " 0]\n"
     ]
    }
   ],
   "source": [
    "data_x =  np.random.poisson( size =(1000))\n",
    "print(data_x)"
   ]
  },
  {
   "cell_type": "markdown",
   "id": "9375e193-4d81-4be5-a104-c9f579792524",
   "metadata": {},
   "source": [
    "(ii)"
   ]
  },
  {
   "cell_type": "code",
   "execution_count": 27,
   "id": "33ea4699-5752-432c-bb5f-1b7d54d74665",
   "metadata": {},
   "outputs": [
    {
     "name": "stdout",
     "output_type": "stream",
     "text": [
      "987.4\n"
     ]
    }
   ],
   "source": [
    "data_x = np.random.poisson(lam =1000 ,size =(5))\n",
    "mean = np. mean(data_x)\n",
    "print(mean)"
   ]
  },
  {
   "cell_type": "code",
   "execution_count": 28,
   "id": "42e83fe7-55e8-49b6-8467-31b8f05c62d1",
   "metadata": {},
   "outputs": [
    {
     "name": "stdout",
     "output_type": "stream",
     "text": [
      "313.84000000000003\n"
     ]
    }
   ],
   "source": [
    "dada_x =  np.random.poisson(lam =1000 ,size =(5))\n",
    "variance =np.var(data_x)\n",
    "print(variance)"
   ]
  },
  {
   "cell_type": "markdown",
   "id": "58494cd7-d801-4334-a8c2-3657af809536",
   "metadata": {},
   "source": [
    "## (iii)"
   ]
  },
  {
   "cell_type": "code",
   "execution_count": 29,
   "id": "ecbac8bb-1756-4f6a-9df3-e5238ee229f8",
   "metadata": {},
   "outputs": [],
   "source": [
    "import seaborn as sns\n",
    "import matplotlib.pyplot as plt"
   ]
  },
  {
   "cell_type": "code",
   "execution_count": 30,
   "id": "5b480441-7a01-4484-8af0-f73ecc236fc1",
   "metadata": {},
   "outputs": [
    {
     "data": {
      "image/png": "[encoded data removed]",
      "text/plain": [
       "<Figure size 640x480 with 1 Axes>"
      ]
     },
     "metadata": {},
     "output_type": "display_data"
    }
   ],
   "source": [
    "poisson = random.poisson(lam=1000, size= 5)\n",
    "sns.histplot(poisson,  kde= False, color='navy')\n",
    "plt.show()"
   ]
  },
  {
   "cell_type": "code",
   "execution_count": null,
   "id": "927ff586-e2c5-4dbc-b2c2-d208151f77fe",
   "metadata": {},
   "outputs": [],
   "source": []
  }
 ],
 "metadata": {
  "kernelspec": {
   "display_name": "Python 3 (ipykernel)",
   "language": "python",
   "name": "python3"
  },
  "language_info": {
   "codemirror_mode": {
    "name": "ipython",
    "version": 3
   },
   "file_extension": ".py",
   "mimetype": "text/x-python",
   "name": "python",
   "nbconvert_exporter": "python",
   "pygments_lexer": "ipython3",
   "version": "3.13.0"
  }
 },
 "nbformat": 4,
 "nbformat_minor": 5
}
